{
 "cells": [
  {
   "cell_type": "code",
   "execution_count": null,
   "metadata": {},
   "outputs": [],
   "source": [
    "import torch\n",
    "import matplotlib.pyplot as plt\n",
    "import os\n",
    "\n",
    "# Load checkpoints and extract loss values\n",
    "# specify out_dir\n",
    "out_dir = 'out-whatsapp2'\n",
    "ckpt_path = os.path.join(out_dir, 'ckpt.pt')\n",
    "val_losses = []\n",
    "iterations = []\n",
    "\n",
    "\n",
    "checkpoint = torch.load(ckpt_path)\n",
    "val_loss = checkpoint['val_loss']\n",
    "iter_num = checkpoint['iter_num']\n",
    "    \n",
    "\n",
    "    val_losses.append(val_loss)\n",
    "    iterations.append(iter_num)\n",
    "\n",
    "# Plotting\n",
    "plt.plot(iterations, val_losses, label='Validation Loss')\n",
    "plt.xlabel('Iterations')\n",
    "plt.ylabel('Loss')\n",
    "plt.title('Validation Loss')\n",
    "plt.legend()\n",
    "plt.grid(True)\n",
    "plt.show()\n"
   ]
  }
 ],
 "metadata": {
  "language_info": {
   "name": "python"
  },
  "orig_nbformat": 4
 },
 "nbformat": 4,
 "nbformat_minor": 2
}
