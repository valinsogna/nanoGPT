{
 "cells": [
  {
   "cell_type": "code",
   "execution_count": 5,
   "metadata": {},
   "outputs": [
    {
     "ename": "FileNotFoundError",
     "evalue": "[Errno 2] No such file or directory: '/Users/valeriainsogna/Desktop/out-whatsapp_finetune/ckpt.pt'",
     "output_type": "error",
     "traceback": [
      "\u001b[0;31m---------------------------------------------------------------------------\u001b[0m",
      "\u001b[0;31mFileNotFoundError\u001b[0m                         Traceback (most recent call last)",
      "Cell \u001b[0;32mIn[5], line 25\u001b[0m\n\u001b[1;32m     23\u001b[0m ckpt_path \u001b[39m=\u001b[39m \u001b[39m'\u001b[39m\u001b[39m/Users/valeriainsogna/Desktop/out-whatsapp_finetune/ckpt.pt\u001b[39m\u001b[39m'\u001b[39m\n\u001b[1;32m     24\u001b[0m \u001b[39m# Count the number of checkpoints in ckpt_path\u001b[39;00m\n\u001b[0;32m---> 25\u001b[0m num_ckpts \u001b[39m=\u001b[39m \u001b[39mlen\u001b[39m([ckpt \u001b[39mfor\u001b[39;00m ckpt \u001b[39min\u001b[39;00m os\u001b[39m.\u001b[39;49mlistdir(ckpt_path) \u001b[39mif\u001b[39;00m ckpt\u001b[39m.\u001b[39mendswith(\u001b[39m'\u001b[39m\u001b[39mckpt.pt\u001b[39m\u001b[39m'\u001b[39m)])\n\u001b[1;32m     26\u001b[0m \u001b[39mprint\u001b[39m(\u001b[39m'\u001b[39m\u001b[39mNumber of checkpoints in ckpt_path: \u001b[39m\u001b[39m'\u001b[39m, num_ckpts)\n\u001b[1;32m     27\u001b[0m \u001b[39mprint\u001b[39m(\u001b[39m'\u001b[39m\u001b[39mBest validation loss: \u001b[39m\u001b[39m'\u001b[39m, \u001b[39mmin\u001b[39m(val_losses))\n",
      "\u001b[0;31mFileNotFoundError\u001b[0m: [Errno 2] No such file or directory: '/Users/valeriainsogna/Desktop/out-whatsapp_finetune/ckpt.pt'"
     ]
    }
   ],
   "source": [
    "import torch\n",
    "import os\n",
    "\n",
    "# Load checkpoints and extract loss values\n",
    "# specify out_dir\n",
    "out_dir = 'out-whatsapp_finetune'\n",
    "ckpt_path = os.path.join(out_dir, 'ckpt.pt')\n",
    "val_losses = []\n",
    "iterations = []\n",
    "\n",
    "\n",
    "checkpoint = torch.load(ckpt_path, map_location=torch.device('cpu'))\n",
    "val_loss = checkpoint['best_val_loss']\n",
    "iter_num = checkpoint['iter_num']\n",
    "    \n",
    "\n",
    "val_losses.append(val_loss)\n",
    "iterations.append(iter_num)\n",
    "\n",
    "#Count the number of checkpoints in ckpt_path\n",
    "# specify out_dir\n",
    "out_dir = 'out-whatsapp_finetune'\n",
    "ckpt_path = '/Users/valeriainsogna/Desktop/out-whatsapp_finetune/ckpt.pt'\n",
    "# Count the number of checkpoints in ckpt_path\n",
    "num_ckpts = len([ckpt for ckpt in os.listdir(ckpt_path) if ckpt.endswith('ckpt.pt')])\n",
    "print('Number of checkpoints in ckpt_path: ', num_ckpts)\n",
    "print('Best validation loss: ', min(val_losses))\n"
   ]
  },
  {
   "cell_type": "code",
   "execution_count": null,
   "metadata": {},
   "outputs": [],
   "source": [
    "# Print the checkpoint information including the config\n",
    "print(\"Checkpoint Information:\")\n",
    "#print(f\"  Model: {checkpoint['model']}\")\n",
    "#print(f\"  Optimizer: {checkpoint['optimizer']}\")\n",
    "print(f\"  Model Args: {checkpoint['model_args']}\")\n",
    "print(f\"  Iteration Number: {checkpoint['iter_num']}\")\n",
    "print(f\"  Best Validation Loss: {checkpoint['best_val_loss']}\")\n",
    "print(f\"  Config:\")\n",
    "for key, value in checkpoint['config'].items():\n",
    "    print(f\"    {key}: {value}\")"
   ]
  }
 ],
 "metadata": {
  "kernelspec": {
   "display_name": "Python 3",
   "language": "python",
   "name": "python3"
  },
  "language_info": {
   "codemirror_mode": {
    "name": "ipython",
    "version": 3
   },
   "file_extension": ".py",
   "mimetype": "text/x-python",
   "name": "python",
   "nbconvert_exporter": "python",
   "pygments_lexer": "ipython3",
   "version": "3.10.11"
  },
  "orig_nbformat": 4
 },
 "nbformat": 4,
 "nbformat_minor": 2
}
